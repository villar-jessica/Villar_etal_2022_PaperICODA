{
 "cells": [
  {
   "cell_type": "markdown",
   "id": "d4b19a64",
   "metadata": {},
   "source": [
    "# Hypothesis Test"
   ]
  },
  {
   "cell_type": "markdown",
   "id": "982654ac",
   "metadata": {},
   "source": [
    "### Install Libraries"
   ]
  },
  {
   "cell_type": "code",
   "execution_count": 46,
   "id": "f60731cc",
   "metadata": {},
   "outputs": [],
   "source": [
    "import pandas as pd\n",
    "import numpy as np\n",
    "import psycopg2 as pg\n",
    "import scipy.stats as stats\n",
    "import seaborn as sns"
   ]
  },
  {
   "cell_type": "markdown",
   "id": "40829f09",
   "metadata": {},
   "source": [
    "### Postgres Connection"
   ]
  },
  {
   "cell_type": "code",
   "execution_count": 2,
   "id": "f8ff62a6",
   "metadata": {},
   "outputs": [],
   "source": [
    "conn = pg.connect(\"dbname=postgres user=postgres password=saude123\")"
   ]
  },
  {
   "cell_type": "markdown",
   "id": "6d3f5c65",
   "metadata": {},
   "source": [
    "### Import Data"
   ]
  },
  {
   "cell_type": "code",
   "execution_count": 3,
   "id": "3ceb7c6c",
   "metadata": {
    "scrolled": true
   },
   "outputs": [
    {
     "data": {
      "text/html": [
       "<div>\n",
       "<style scoped>\n",
       "    .dataframe tbody tr th:only-of-type {\n",
       "        vertical-align: middle;\n",
       "    }\n",
       "\n",
       "    .dataframe tbody tr th {\n",
       "        vertical-align: top;\n",
       "    }\n",
       "\n",
       "    .dataframe thead th {\n",
       "        text-align: right;\n",
       "    }\n",
       "</style>\n",
       "<table border=\"1\" class=\"dataframe\">\n",
       "  <thead>\n",
       "    <tr style=\"text-align: right;\">\n",
       "      <th></th>\n",
       "      <th>state</th>\n",
       "      <th>gdp_per_capita_2019</th>\n",
       "      <th>hdi_income_2010</th>\n",
       "      <th>hdi_education_2010</th>\n",
       "      <th>hdi_health_2010</th>\n",
       "      <th>life_expectancy_2010</th>\n",
       "      <th>cluster</th>\n",
       "    </tr>\n",
       "  </thead>\n",
       "  <tbody>\n",
       "    <tr>\n",
       "      <th>0</th>\n",
       "      <td>RO</td>\n",
       "      <td>26497.12</td>\n",
       "      <td>0.800</td>\n",
       "      <td>0.577</td>\n",
       "      <td>0.712</td>\n",
       "      <td>77.07</td>\n",
       "      <td>0</td>\n",
       "    </tr>\n",
       "    <tr>\n",
       "      <th>1</th>\n",
       "      <td>AC</td>\n",
       "      <td>17722.41</td>\n",
       "      <td>0.777</td>\n",
       "      <td>0.559</td>\n",
       "      <td>0.671</td>\n",
       "      <td>78.71</td>\n",
       "      <td>1</td>\n",
       "    </tr>\n",
       "    <tr>\n",
       "      <th>2</th>\n",
       "      <td>AM</td>\n",
       "      <td>26101.72</td>\n",
       "      <td>0.805</td>\n",
       "      <td>0.561</td>\n",
       "      <td>0.677</td>\n",
       "      <td>77.76</td>\n",
       "      <td>1</td>\n",
       "    </tr>\n",
       "    <tr>\n",
       "      <th>3</th>\n",
       "      <td>RR</td>\n",
       "      <td>23593.84</td>\n",
       "      <td>0.809</td>\n",
       "      <td>0.628</td>\n",
       "      <td>0.695</td>\n",
       "      <td>78.03</td>\n",
       "      <td>1</td>\n",
       "    </tr>\n",
       "    <tr>\n",
       "      <th>4</th>\n",
       "      <td>PA</td>\n",
       "      <td>20734.60</td>\n",
       "      <td>0.789</td>\n",
       "      <td>0.528</td>\n",
       "      <td>0.646</td>\n",
       "      <td>77.33</td>\n",
       "      <td>1</td>\n",
       "    </tr>\n",
       "    <tr>\n",
       "      <th>5</th>\n",
       "      <td>AP</td>\n",
       "      <td>20688.21</td>\n",
       "      <td>0.813</td>\n",
       "      <td>0.629</td>\n",
       "      <td>0.694</td>\n",
       "      <td>78.46</td>\n",
       "      <td>1</td>\n",
       "    </tr>\n",
       "    <tr>\n",
       "      <th>6</th>\n",
       "      <td>TO</td>\n",
       "      <td>25021.80</td>\n",
       "      <td>0.793</td>\n",
       "      <td>0.624</td>\n",
       "      <td>0.690</td>\n",
       "      <td>78.48</td>\n",
       "      <td>0</td>\n",
       "    </tr>\n",
       "    <tr>\n",
       "      <th>7</th>\n",
       "      <td>MA</td>\n",
       "      <td>13757.94</td>\n",
       "      <td>0.757</td>\n",
       "      <td>0.562</td>\n",
       "      <td>0.612</td>\n",
       "      <td>78.22</td>\n",
       "      <td>1</td>\n",
       "    </tr>\n",
       "    <tr>\n",
       "      <th>8</th>\n",
       "      <td>PI</td>\n",
       "      <td>16125.00</td>\n",
       "      <td>0.777</td>\n",
       "      <td>0.547</td>\n",
       "      <td>0.635</td>\n",
       "      <td>77.03</td>\n",
       "      <td>0</td>\n",
       "    </tr>\n",
       "    <tr>\n",
       "      <th>9</th>\n",
       "      <td>CE</td>\n",
       "      <td>17912.17</td>\n",
       "      <td>0.793</td>\n",
       "      <td>0.615</td>\n",
       "      <td>0.651</td>\n",
       "      <td>79.01</td>\n",
       "      <td>0</td>\n",
       "    </tr>\n",
       "    <tr>\n",
       "      <th>10</th>\n",
       "      <td>RN</td>\n",
       "      <td>20342.11</td>\n",
       "      <td>0.792</td>\n",
       "      <td>0.597</td>\n",
       "      <td>0.678</td>\n",
       "      <td>79.63</td>\n",
       "      <td>0</td>\n",
       "    </tr>\n",
       "    <tr>\n",
       "      <th>11</th>\n",
       "      <td>PB</td>\n",
       "      <td>16919.84</td>\n",
       "      <td>0.783</td>\n",
       "      <td>0.555</td>\n",
       "      <td>0.656</td>\n",
       "      <td>79.30</td>\n",
       "      <td>0</td>\n",
       "    </tr>\n",
       "    <tr>\n",
       "      <th>12</th>\n",
       "      <td>PE</td>\n",
       "      <td>20702.30</td>\n",
       "      <td>0.789</td>\n",
       "      <td>0.574</td>\n",
       "      <td>0.673</td>\n",
       "      <td>79.76</td>\n",
       "      <td>0</td>\n",
       "    </tr>\n",
       "    <tr>\n",
       "      <th>13</th>\n",
       "      <td>AL</td>\n",
       "      <td>17667.79</td>\n",
       "      <td>0.755</td>\n",
       "      <td>0.520</td>\n",
       "      <td>0.641</td>\n",
       "      <td>79.16</td>\n",
       "      <td>0</td>\n",
       "    </tr>\n",
       "    <tr>\n",
       "      <th>14</th>\n",
       "      <td>SE</td>\n",
       "      <td>19441.23</td>\n",
       "      <td>0.781</td>\n",
       "      <td>0.560</td>\n",
       "      <td>0.672</td>\n",
       "      <td>78.80</td>\n",
       "      <td>0</td>\n",
       "    </tr>\n",
       "    <tr>\n",
       "      <th>15</th>\n",
       "      <td>BA</td>\n",
       "      <td>19716.21</td>\n",
       "      <td>0.783</td>\n",
       "      <td>0.555</td>\n",
       "      <td>0.663</td>\n",
       "      <td>78.89</td>\n",
       "      <td>0</td>\n",
       "    </tr>\n",
       "    <tr>\n",
       "      <th>16</th>\n",
       "      <td>MG</td>\n",
       "      <td>30794.04</td>\n",
       "      <td>0.838</td>\n",
       "      <td>0.638</td>\n",
       "      <td>0.730</td>\n",
       "      <td>82.32</td>\n",
       "      <td>0</td>\n",
       "    </tr>\n",
       "    <tr>\n",
       "      <th>17</th>\n",
       "      <td>ES</td>\n",
       "      <td>34177.05</td>\n",
       "      <td>0.835</td>\n",
       "      <td>0.653</td>\n",
       "      <td>0.743</td>\n",
       "      <td>82.74</td>\n",
       "      <td>0</td>\n",
       "    </tr>\n",
       "    <tr>\n",
       "      <th>18</th>\n",
       "      <td>RJ</td>\n",
       "      <td>45174.08</td>\n",
       "      <td>0.835</td>\n",
       "      <td>0.675</td>\n",
       "      <td>0.782</td>\n",
       "      <td>82.19</td>\n",
       "      <td>0</td>\n",
       "    </tr>\n",
       "    <tr>\n",
       "      <th>19</th>\n",
       "      <td>SP</td>\n",
       "      <td>51140.82</td>\n",
       "      <td>0.845</td>\n",
       "      <td>0.719</td>\n",
       "      <td>0.789</td>\n",
       "      <td>82.62</td>\n",
       "      <td>2</td>\n",
       "    </tr>\n",
       "    <tr>\n",
       "      <th>20</th>\n",
       "      <td>PR</td>\n",
       "      <td>40788.77</td>\n",
       "      <td>0.830</td>\n",
       "      <td>0.668</td>\n",
       "      <td>0.757</td>\n",
       "      <td>83.86</td>\n",
       "      <td>0</td>\n",
       "    </tr>\n",
       "    <tr>\n",
       "      <th>21</th>\n",
       "      <td>SC</td>\n",
       "      <td>45118.41</td>\n",
       "      <td>0.860</td>\n",
       "      <td>0.697</td>\n",
       "      <td>0.773</td>\n",
       "      <td>84.49</td>\n",
       "      <td>0</td>\n",
       "    </tr>\n",
       "    <tr>\n",
       "      <th>22</th>\n",
       "      <td>RS</td>\n",
       "      <td>42406.09</td>\n",
       "      <td>0.840</td>\n",
       "      <td>0.642</td>\n",
       "      <td>0.769</td>\n",
       "      <td>83.91</td>\n",
       "      <td>0</td>\n",
       "    </tr>\n",
       "    <tr>\n",
       "      <th>23</th>\n",
       "      <td>MS</td>\n",
       "      <td>38482.83</td>\n",
       "      <td>0.833</td>\n",
       "      <td>0.629</td>\n",
       "      <td>0.740</td>\n",
       "      <td>81.14</td>\n",
       "      <td>2</td>\n",
       "    </tr>\n",
       "    <tr>\n",
       "      <th>24</th>\n",
       "      <td>MT</td>\n",
       "      <td>40787.32</td>\n",
       "      <td>0.821</td>\n",
       "      <td>0.635</td>\n",
       "      <td>0.732</td>\n",
       "      <td>80.53</td>\n",
       "      <td>0</td>\n",
       "    </tr>\n",
       "    <tr>\n",
       "      <th>25</th>\n",
       "      <td>GO</td>\n",
       "      <td>29732.40</td>\n",
       "      <td>0.827</td>\n",
       "      <td>0.646</td>\n",
       "      <td>0.742</td>\n",
       "      <td>79.59</td>\n",
       "      <td>0</td>\n",
       "    </tr>\n",
       "    <tr>\n",
       "      <th>26</th>\n",
       "      <td>DF</td>\n",
       "      <td>90742.75</td>\n",
       "      <td>0.873</td>\n",
       "      <td>0.742</td>\n",
       "      <td>0.863</td>\n",
       "      <td>82.75</td>\n",
       "      <td>0</td>\n",
       "    </tr>\n",
       "  </tbody>\n",
       "</table>\n",
       "</div>"
      ],
      "text/plain": [
       "   state  gdp_per_capita_2019  hdi_income_2010  hdi_education_2010  \\\n",
       "0     RO             26497.12            0.800               0.577   \n",
       "1     AC             17722.41            0.777               0.559   \n",
       "2     AM             26101.72            0.805               0.561   \n",
       "3     RR             23593.84            0.809               0.628   \n",
       "4     PA             20734.60            0.789               0.528   \n",
       "5     AP             20688.21            0.813               0.629   \n",
       "6     TO             25021.80            0.793               0.624   \n",
       "7     MA             13757.94            0.757               0.562   \n",
       "8     PI             16125.00            0.777               0.547   \n",
       "9     CE             17912.17            0.793               0.615   \n",
       "10    RN             20342.11            0.792               0.597   \n",
       "11    PB             16919.84            0.783               0.555   \n",
       "12    PE             20702.30            0.789               0.574   \n",
       "13    AL             17667.79            0.755               0.520   \n",
       "14    SE             19441.23            0.781               0.560   \n",
       "15    BA             19716.21            0.783               0.555   \n",
       "16    MG             30794.04            0.838               0.638   \n",
       "17    ES             34177.05            0.835               0.653   \n",
       "18    RJ             45174.08            0.835               0.675   \n",
       "19    SP             51140.82            0.845               0.719   \n",
       "20    PR             40788.77            0.830               0.668   \n",
       "21    SC             45118.41            0.860               0.697   \n",
       "22    RS             42406.09            0.840               0.642   \n",
       "23    MS             38482.83            0.833               0.629   \n",
       "24    MT             40787.32            0.821               0.635   \n",
       "25    GO             29732.40            0.827               0.646   \n",
       "26    DF             90742.75            0.873               0.742   \n",
       "\n",
       "    hdi_health_2010  life_expectancy_2010  cluster  \n",
       "0             0.712                 77.07        0  \n",
       "1             0.671                 78.71        1  \n",
       "2             0.677                 77.76        1  \n",
       "3             0.695                 78.03        1  \n",
       "4             0.646                 77.33        1  \n",
       "5             0.694                 78.46        1  \n",
       "6             0.690                 78.48        0  \n",
       "7             0.612                 78.22        1  \n",
       "8             0.635                 77.03        0  \n",
       "9             0.651                 79.01        0  \n",
       "10            0.678                 79.63        0  \n",
       "11            0.656                 79.30        0  \n",
       "12            0.673                 79.76        0  \n",
       "13            0.641                 79.16        0  \n",
       "14            0.672                 78.80        0  \n",
       "15            0.663                 78.89        0  \n",
       "16            0.730                 82.32        0  \n",
       "17            0.743                 82.74        0  \n",
       "18            0.782                 82.19        0  \n",
       "19            0.789                 82.62        2  \n",
       "20            0.757                 83.86        0  \n",
       "21            0.773                 84.49        0  \n",
       "22            0.769                 83.91        0  \n",
       "23            0.740                 81.14        2  \n",
       "24            0.732                 80.53        0  \n",
       "25            0.742                 79.59        0  \n",
       "26            0.863                 82.75        0  "
      ]
     },
     "execution_count": 3,
     "metadata": {},
     "output_type": "execute_result"
    }
   ],
   "source": [
    "## Socioeconomic States\n",
    "\n",
    "socioeconomic_states = pd.read_sql_query ('''\n",
    "select state,gdp_per_capita_2019,hdi_income_2010,hdi_education_2010,hdi_health_2010,life_expectancy_2010 from socioeconomic_states\n",
    "''', conn)\n",
    "\n",
    "dict_states_socioeconomic = {\n",
    "    'Acre':'AC',\n",
    "    'Amazonas':'AM',\n",
    "    'Alagoas':'AL',\n",
    "    'Amapá':'AP',\n",
    "    'Bahia':'BA',\n",
    "    'Ceará':'CE',\n",
    "    'Distrito Federal':'DF',\n",
    "    'Espírito Santo':'ES',\n",
    "    'Goiás':'GO',\n",
    "    'Maranhão':'MA',\n",
    "    'Mato Grosso':'MT',\n",
    "    'Mato Grosso do Sul':'MS',\n",
    "    'Minas Gerais':'MG',\n",
    "    'Pará':'PA',\n",
    "    'Paraíba':'PB',\n",
    "    'Paraná':'PR',\n",
    "    'Pernambuco':'PE',\n",
    "    'Piauí':'PI',\n",
    "    'Rio de Janeiro':'RJ',\n",
    "    'Rio Grande do Norte':'RN',\n",
    "    'Rio Grande do Sul':'RS',\n",
    "    'Rondônia':'RO',\n",
    "    'Roraima':'RR',\n",
    "    'Santa Catarina':'SC',\n",
    "    'São Paulo':'SP',\n",
    "    'Sergipe':'SE',\n",
    "    'Tocantins':'TO'\n",
    "}\n",
    "\n",
    "dict_states_cluster = {'AC': 1,\n",
    " 'AL': 0,\n",
    " 'AM': 1,\n",
    " 'AP': 1,\n",
    " 'BA': 0,\n",
    " 'CE': 0,\n",
    " 'DF': 0,\n",
    " 'ES': 0,\n",
    " 'GO': 0,\n",
    " 'MA': 1,\n",
    " 'MG': 0,\n",
    " 'MS': 2,\n",
    " 'MT': 0,\n",
    " 'PA': 1,\n",
    " 'PB': 0,\n",
    " 'PE': 0,\n",
    " 'PI': 0,\n",
    " 'PR': 0,\n",
    " 'RJ': 0,\n",
    " 'RN': 0,\n",
    " 'RO': 0,\n",
    " 'RR': 1,\n",
    " 'RS': 0,\n",
    " 'SC': 0,\n",
    " 'SE': 0,\n",
    " 'SP': 2,\n",
    " 'TO': 0}\n",
    "\n",
    "socioeconomic_states['state'] = socioeconomic_states['state'].map(dict_states_socioeconomic)\n",
    "socioeconomic_states['cluster'] = socioeconomic_states['state'].map(dict_states_cluster)\n",
    "socioeconomic_states"
   ]
  },
  {
   "cell_type": "markdown",
   "id": "cd655b43",
   "metadata": {},
   "source": [
    "### Statistical Measures"
   ]
  },
  {
   "cell_type": "code",
   "execution_count": 33,
   "id": "14509a75",
   "metadata": {},
   "outputs": [],
   "source": [
    "dict_gdp_per_capita_2019 = dict()\n",
    "dict_hdi_income_2010 = dict()\n",
    "dict_hdi_education_2010 = dict()\n",
    "dict_hdi_health_2010 = dict()\n",
    "dict_life_expectancy_2010 = dict()\n",
    "length = dict()\n",
    "\n",
    "for i in [0,1,2]:\n",
    "    dict_gdp_per_capita_2019[i] = np.array(socioeconomic_states[socioeconomic_states['cluster'] == i]['gdp_per_capita_2019'])\n",
    "    dict_hdi_income_2010[i] = np.array(socioeconomic_states[socioeconomic_states['cluster'] == i]['hdi_income_2010'])                         \n",
    "    dict_hdi_education_2010[i] = np.array(socioeconomic_states[socioeconomic_states['cluster'] == i]['hdi_education_2010'])                         \n",
    "    dict_hdi_health_2010[i] = np.array(socioeconomic_states[socioeconomic_states['cluster'] == i]['hdi_health_2010'])                           \n",
    "    dict_life_expectancy_2010[i] = np.array(socioeconomic_states[socioeconomic_states['cluster'] == i]['life_expectancy_2010'])                            "
   ]
  },
  {
   "cell_type": "markdown",
   "id": "bc1170cb",
   "metadata": {},
   "source": [
    "### Difference of Sample Means Distribution"
   ]
  },
  {
   "cell_type": "markdown",
   "id": "1efdfff5",
   "metadata": {},
   "source": [
    "Consider the sets of random variables, $\\mathcal{X_1} =\\{X_{11},x_{12},...,X_{1n_1}\\}$ as well as $\\mathcal{X_2} =\\{X_{21},X_{22},...,X_{2n_2}\\}$ from the second one.\n",
    "\n",
    "By hypothesis, $X_{1i} \\sim N(\\mu_1,\\sigma^2)$ and $X_{1i} \\sim N(\\mu_1,\\sigma^2)$\n",
    "\n",
    "Then, $X_1 \\sim N(\\mu_1,\\frac{\\sigma_{1}^2}{n_1})$ and $X_1 \\sim N(\\mu_2,\\frac{\\sigma_{2}^2}{n_2})$\n",
    "\n",
    "And, $X_1 - X_2 \\sim N(\\mu_1 - \\mu_2,\\frac{\\sigma_{1}^2}{n_1}+\\frac{\\sigma_{2}^2}{n_2})$\n",
    "\n",
    "Subsequently, we will estimate the actual difference between averages, such as\n",
    "\n",
    "$E[\\bar{X_1} - \\bar{X_2}] = \\mu_1 - \\mu_2$  and\n",
    "\n",
    "$V[\\bar{X_1} - \\bar{X_2}] = V[\\bar{X_1}] + V[\\bar{X_2}] = \\frac{\\sigma_1^2}{n_1} + \\frac{\\sigma_2^2}{n_2}$\n",
    "\n",
    "Therefore, \n",
    "\n",
    "Z  = $\\frac{\\bar{X_1} - \\bar{X_2} - (\\mu_1 - \\mu_2)}{\\sqrt{\\frac{\\sigma_1^2}{n_1} +\\frac{\\sigma_2^2}{n_2}}}\\; \\sim N(0,1)$\n",
    "\n",
    "\n",
    "\n"
   ]
  },
  {
   "cell_type": "markdown",
   "id": "0d05d878",
   "metadata": {},
   "source": [
    "### Hypothesis Test"
   ]
  },
  {
   "cell_type": "code",
   "execution_count": 40,
   "id": "6f12ed00",
   "metadata": {},
   "outputs": [],
   "source": [
    "dict_results_gdp_per_capita_2019 = dict()\n",
    "dict_results_hdi_income_2010 = dict()\n",
    "dict_results_hdi_education_2010 = dict()\n",
    "dict_results_hdi_health_2010 = dict()\n",
    "dict_results_life_expectancy_2010 = dict()\n",
    "\n",
    "for i in [0,1,2]:\n",
    "    for j in [0,1,2]:\n",
    "        if i < j:\n",
    "            i + j\n",
    "            dict_results_gdp_per_capita_2019[f\"{i}_{j}\"] = [stats.ttest_ind(dict_life_expectancy_2010[i],dict_life_expectancy_2010[j],equal_var = False)[0],\n",
    "                                                            stats.ttest_ind(dict_life_expectancy_2010[i],dict_life_expectancy_2010[j],equal_var = False)[1]]\n",
    "            dict_results_hdi_income_2010[f\"{i}_{j}\"] = [stats.ttest_ind(dict_hdi_income_2010[i],dict_hdi_income_2010[j],equal_var = False)[0],\n",
    "                                                        stats.ttest_ind(dict_hdi_income_2010[i],dict_hdi_income_2010[j],equal_var = False)[1]]\n",
    "            dict_results_hdi_education_2010[f\"{i}_{j}\"] = [stats.ttest_ind(dict_hdi_income_2010[i],dict_hdi_education_2010[j],equal_var = False)[0],\n",
    "                                                        stats.ttest_ind(dict_hdi_income_2010[i],dict_hdi_education_2010[j],equal_var = False)[1]]\n",
    "            dict_results_hdi_health_2010[f\"{i}_{j}\"] = [stats.ttest_ind(dict_hdi_income_2010[i],dict_hdi_health_2010[j],equal_var = False)[0],\n",
    "                                                        stats.ttest_ind(dict_hdi_income_2010[i],dict_hdi_health_2010[j],equal_var = False)[1]]\n",
    "            dict_results_life_expectancy_2010[f\"{i}_{j}\"] = [stats.ttest_ind(dict_life_expectancy_2010[i],dict_life_expectancy_2010[j],equal_var = False)[0],\n",
    "                                                             stats.ttest_ind(dict_life_expectancy_2010[i],dict_life_expectancy_2010[j],equal_var = False)[1]]\n",
    "        \n",
    "            \n",
    "                                                        "
   ]
  },
  {
   "cell_type": "code",
   "execution_count": 41,
   "id": "801fec9b",
   "metadata": {
    "scrolled": true
   },
   "outputs": [
    {
     "data": {
      "text/plain": [
       "{'0_1': [4.258337256489049, 0.00032235450990474425],\n",
       " '0_2': [-1.5156030987499265, 0.255071805350292],\n",
       " '1_2': [-4.946800576232848, 0.1025799816688309]}"
      ]
     },
     "execution_count": 41,
     "metadata": {},
     "output_type": "execute_result"
    }
   ],
   "source": [
    "dict_results_gdp_per_capita_2019"
   ]
  },
  {
   "cell_type": "code",
   "execution_count": 42,
   "id": "f0d488fa",
   "metadata": {},
   "outputs": [
    {
     "data": {
      "text/plain": [
       "{'0_1': [1.6683717332821388, 0.12023987617335403],\n",
       " '0_2': [-2.9936971713408176, 0.027330116850189018],\n",
       " '1_2': [-4.421981203681201, 0.006309698950144924]}"
      ]
     },
     "execution_count": 42,
     "metadata": {},
     "output_type": "execute_result"
    }
   ],
   "source": [
    "dict_results_hdi_income_2010"
   ]
  },
  {
   "cell_type": "code",
   "execution_count": 43,
   "id": "9d9b2058",
   "metadata": {},
   "outputs": [
    {
     "data": {
      "text/plain": [
       "{'0_1': [12.701999975694685, 4.502785907825831e-06],\n",
       " '0_2': [3.0008959864650278, 0.19460294940413608],\n",
       " '1_2': [2.5655126684346907, 0.2216802525688429]}"
      ]
     },
     "execution_count": 43,
     "metadata": {},
     "output_type": "execute_result"
    }
   ],
   "source": [
    "dict_results_hdi_education_2010"
   ]
  },
  {
   "cell_type": "code",
   "execution_count": 44,
   "id": "65fd4e5c",
   "metadata": {},
   "outputs": [
    {
     "data": {
      "text/plain": [
       "{'0_1': [9.720944452207444, 7.6120527962334006e-06],\n",
       " '0_2': [1.811379530908548, 0.2906454355330618],\n",
       " '1_2': [1.0426932240983675, 0.4551880231299844]}"
      ]
     },
     "execution_count": 44,
     "metadata": {},
     "output_type": "execute_result"
    }
   ],
   "source": [
    "dict_results_hdi_health_2010"
   ]
  },
  {
   "cell_type": "code",
   "execution_count": 45,
   "id": "60e8cd8d",
   "metadata": {},
   "outputs": [
    {
     "data": {
      "text/plain": [
       "{'0_1': [4.258337256489049, 0.00032235450990474425],\n",
       " '0_2': [-1.5156030987499265, 0.255071805350292],\n",
       " '1_2': [-4.946800576232848, 0.1025799816688309]}"
      ]
     },
     "execution_count": 45,
     "metadata": {},
     "output_type": "execute_result"
    }
   ],
   "source": [
    "dict_results_life_expectancy_2010"
   ]
  },
  {
   "cell_type": "markdown",
   "id": "8b2383c4",
   "metadata": {},
   "source": [
    "### Explanatory Results"
   ]
  },
  {
   "cell_type": "code",
   "execution_count": 106,
   "id": "13b4acb3",
   "metadata": {},
   "outputs": [
    {
     "data": {
      "text/plain": [
       "<AxesSubplot:xlabel='x', ylabel='y'>"
      ]
     },
     "execution_count": 106,
     "metadata": {},
     "output_type": "execute_result"
    },
    {
     "data": {
      "image/png": "[encoded data removed]",
      "text/plain": [
       "<Figure size 432x288 with 1 Axes>"
      ]
     },
     "metadata": {
      "needs_background": "light"
     },
     "output_type": "display_data"
    }
   ],
   "source": [
    "# cluster 0-1\n",
    "x1 = np.random.uniform(0,dict_results_gdp_per_capita_2019['0_1'][1], 1)[0]\n",
    "x2 = np.random.uniform(0,dict_results_hdi_income_2010['0_1'][1], 1)[0]\n",
    "x3 = np.random.uniform(0,dict_results_hdi_education_2010['0_1'][1], 1)[0]\n",
    "x4 = np.random.uniform(0,dict_results_hdi_health_2010['0_1'][1], 1)[0]\n",
    "x5 = np.random.uniform(0,dict_results_life_expectancy_2010['0_1'][1], 1)[0]\n",
    "\n",
    "data = pd.DataFrame({'x':[x1,x2,x3,x4,x5],\n",
    "                     'y':[np.sqrt(dict_results_gdp_per_capita_2019['0_1'][1]**2 - x1**2),\n",
    "                         np.sqrt(dict_results_hdi_income_2010['0_1'][1]**2 - x2**2),\n",
    "                         np.sqrt(dict_results_hdi_education_2010['0_1'][1]**2 - x3**2),\n",
    "                         np.sqrt(dict_results_hdi_health_2010['0_1'][1]**2 - x4**2),\n",
    "                         np.sqrt(dict_results_life_expectancy_2010['0_1'][1]**2 - x5**2)],'Labels':['GDP per capita','HDI Income','HDI Education', 'HDI Health', 'Life Expectancy']})\n",
    "p = sns.scatterplot(x=\"x\", y=\"y\",\n",
    "              hue=\"Labels\",\n",
    "              data=data)\n",
    "p"
   ]
  },
  {
   "cell_type": "code",
   "execution_count": 110,
   "id": "dbb078c6",
   "metadata": {},
   "outputs": [
    {
     "data": {
      "text/plain": [
       "<AxesSubplot:xlabel='x', ylabel='y'>"
      ]
     },
     "execution_count": 110,
     "metadata": {},
     "output_type": "execute_result"
    },
    {
     "data": {
      "image/png": "[encoded data removed]",
      "text/plain": [
       "<Figure size 432x288 with 1 Axes>"
      ]
     },
     "metadata": {
      "needs_background": "light"
     },
     "output_type": "display_data"
    }
   ],
   "source": [
    "# cluster 0-2\n",
    "x1 = np.random.uniform(0,dict_results_gdp_per_capita_2019['0_2'][1], 1)[0]\n",
    "x2 = np.random.uniform(0,dict_results_hdi_income_2010['0_2'][1], 1)[0]\n",
    "x3 = np.random.uniform(0,dict_results_hdi_education_2010['0_2'][1], 1)[0]\n",
    "x4 = np.random.uniform(0,dict_results_hdi_health_2010['0_2'][1], 1)[0]\n",
    "x5 = np.random.uniform(0,dict_results_life_expectancy_2010['0_2'][1], 1)[0]\n",
    "\n",
    "data = pd.DataFrame({'x':[x1,x2,x3,x4,x5],\n",
    "                     'y':[np.sqrt(dict_results_gdp_per_capita_2019['0_2'][1]**2 - x1**2),\n",
    "                         np.sqrt(dict_results_hdi_income_2010['0_2'][1]**2 - x2**2),\n",
    "                         np.sqrt(dict_results_hdi_education_2010['0_2'][1]**2 - x3**2),\n",
    "                         np.sqrt(dict_results_hdi_health_2010['0_2'][1]**2 - x4**2),\n",
    "                         np.sqrt(dict_results_life_expectancy_2010['0_2'][1]**2 - x5**2)],'Labels':['GDP per capita','HDI Income','HDI Education', 'HDI Health', 'Life Expectancy']})\n",
    "p = sns.scatterplot(x=\"x\", y=\"y\",\n",
    "              hue=\"Labels\",\n",
    "              x_bins= 20,\n",
    "              y_bins = 20,\n",
    "              data=data)\n",
    "p"
   ]
  },
  {
   "cell_type": "code",
   "execution_count": 111,
   "id": "6ebe3642",
   "metadata": {},
   "outputs": [
    {
     "data": {
      "text/plain": [
       "<AxesSubplot:xlabel='x', ylabel='y'>"
      ]
     },
     "execution_count": 111,
     "metadata": {},
     "output_type": "execute_result"
    },
    {
     "data": {
      "image/png": "[encoded data removed]",
      "text/plain": [
       "<Figure size 432x288 with 1 Axes>"
      ]
     },
     "metadata": {
      "needs_background": "light"
     },
     "output_type": "display_data"
    }
   ],
   "source": [
    "# cluster 1-2\n",
    "x1 = np.random.uniform(0,dict_results_gdp_per_capita_2019['1_2'][1], 1)[0]\n",
    "x2 = np.random.uniform(0,dict_results_hdi_income_2010['1_2'][1], 1)[0]\n",
    "x3 = np.random.uniform(0,dict_results_hdi_education_2010['1_2'][1], 1)[0]\n",
    "x4 = np.random.uniform(0,dict_results_hdi_health_2010['1_2'][1], 1)[0]\n",
    "x5 = np.random.uniform(0,dict_results_life_expectancy_2010['1_2'][1], 1)[0]\n",
    "\n",
    "data = pd.DataFrame({'x':[x1,x2,x3,x4,x5],\n",
    "                     'y':[np.sqrt(dict_results_gdp_per_capita_2019['1_2'][1]**2 - x1**2),\n",
    "                         np.sqrt(dict_results_hdi_income_2010['1_2'][1]**2 - x2**2),\n",
    "                         np.sqrt(dict_results_hdi_education_2010['1_2'][1]**2 - x3**2),\n",
    "                         np.sqrt(dict_results_hdi_health_2010['1_2'][1]**2 - x4**2),\n",
    "                         np.sqrt(dict_results_life_expectancy_2010['1_2'][1]**2 - x5**2)],'Labels':['GDP per capita','HDI Income','HDI Education', 'HDI Health', 'Life Expectancy']})\n",
    "p = sns.scatterplot(x=\"x\", y=\"y\",\n",
    "              hue=\"Labels\",\n",
    "              data=data)\n",
    "p"
   ]
  }
 ],
 "metadata": {
  "kernelspec": {
   "display_name": "Python 3",
   "language": "python",
   "name": "python3"
  },
  "language_info": {
   "codemirror_mode": {
    "name": "ipython",
    "version": 3
   },
   "file_extension": ".py",
   "mimetype": "text/x-python",
   "name": "python",
   "nbconvert_exporter": "python",
   "pygments_lexer": "ipython3",
   "version": "3.8.8"
  }
 },
 "nbformat": 4,
 "nbformat_minor": 5
}
