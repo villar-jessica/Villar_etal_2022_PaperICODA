{
 "cells": [
  {
   "cell_type": "markdown",
   "id": "b6cf2902",
   "metadata": {},
   "source": [
    "# DATASET HORACIO"
   ]
  },
  {
   "cell_type": "markdown",
   "id": "2d1688a0",
   "metadata": {},
   "source": [
    "### INSTALL LIBRARIES"
   ]
  },
  {
   "cell_type": "code",
   "execution_count": 1,
   "id": "7e9f0cb9",
   "metadata": {},
   "outputs": [],
   "source": [
    "import pandas as pd\n",
    "import psycopg2 as pg"
   ]
  },
  {
   "cell_type": "markdown",
   "id": "fa0c5d65",
   "metadata": {},
   "source": [
    "### POSTGRES CONNECTION"
   ]
  },
  {
   "cell_type": "code",
   "execution_count": 2,
   "id": "4566e58b",
   "metadata": {},
   "outputs": [],
   "source": [
    "conn = pg.connect(\"dbname=postgres user=postgres password=saude123\")"
   ]
  },
  {
   "cell_type": "markdown",
   "id": "a63b014c",
   "metadata": {},
   "source": [
    "### IMPORT DATA"
   ]
  },
  {
   "cell_type": "code",
   "execution_count": 3,
   "id": "56062b33",
   "metadata": {},
   "outputs": [],
   "source": [
    "city_state = pd.read_sql_query ('''\n",
    "select code6 as city_ibge_code_06,code7 as city_ibge_code_07,state from socioeconomic_cities\n",
    "''', conn)\n",
    "\n",
    "code7_6 = pd.read_sql_query ('''\n",
    "select code7 as city_ibge_code_07,code6 as city_ibge_code_06 from socioeconomic_cities sc \n",
    "''', conn)\n",
    "\n",
    "brasil_io = pd.read_sql_query ('''\n",
    "select state,city_name,city_ibge_code_07,date,last_available_deaths as deaths,estimated_population from brasil_io \n",
    "where place_type = 'city'\n",
    "order by city_name,date\n",
    "''', conn)\n",
    "\n",
    "str_index = pd.read_sql_query ('''\n",
    "select \n",
    "state,\n",
    "date, \n",
    "stringency_index \n",
    "from oxford_measures\n",
    "where jurisdiction = 'STATE_GOV' and city_name is null or city_name = ''\n",
    "order by state,date\n",
    "''',conn)\n",
    "\n",
    "vacc = pd.read_sql_query('''\n",
    "select date,state,city_ibge_code_06,sum(doses) as doses from si_pni_reduced\n",
    "where (vaccine_dose = 'D2' or vaccine_dose = 'D_unica')\n",
    "group by date,state,city_ibge_code_06\n",
    "''',conn)"
   ]
  },
  {
   "cell_type": "markdown",
   "id": "e54c7b6b",
   "metadata": {},
   "source": [
    "### IBGE CODE"
   ]
  },
  {
   "cell_type": "code",
   "execution_count": 4,
   "id": "e0991c77",
   "metadata": {},
   "outputs": [],
   "source": [
    "city_state['city_ibge_code_06'] = city_state['city_ibge_code_06'].map(int)\n",
    "city_state = city_state.set_index('city_ibge_code_06')['state'].to_dict()\n",
    "code7_6['city_ibge_code_07'] = code7_6['city_ibge_code_07'].map(int)\n",
    "code7_6['city_ibge_code_06'] = code7_6['city_ibge_code_06'].map(int)\n",
    "code7_6 = code7_6.set_index('city_ibge_code_07').to_dict()['city_ibge_code_06']"
   ]
  },
  {
   "cell_type": "markdown",
   "id": "8ac21126",
   "metadata": {},
   "source": [
    "### BRASIL IO"
   ]
  },
  {
   "cell_type": "code",
   "execution_count": 5,
   "id": "249ba0be",
   "metadata": {},
   "outputs": [],
   "source": [
    "brasil_io.dropna(subset=['city_ibge_code_07'],inplace=True)\n",
    "brasil_io['city_ibge_code_07'] = brasil_io['city_ibge_code_07'].map(int).map(code7_6)\n",
    "brasil_io['date'] = pd.to_datetime(brasil_io['date'])\n",
    "brasil_io.rename({'city_ibge_code_07':'city_ibge_code_06'},axis=1,inplace=True)\n",
    "brasil_io['mmyyyy'] = brasil_io['date'].dt.month.map(str) + '/' + brasil_io['date'].dt.year.map(str)"
   ]
  },
  {
   "cell_type": "markdown",
   "id": "b634193e",
   "metadata": {},
   "source": [
    "### STRINGENCY INDEX"
   ]
  },
  {
   "cell_type": "code",
   "execution_count": 6,
   "id": "ee9b5019",
   "metadata": {},
   "outputs": [],
   "source": [
    "str_index['date'] = pd.to_datetime(str_index['date'])\n",
    "str_index['mmyyyy'] = str_index['date'].dt.month.map(str) + '/' + str_index['date'].dt.year.map(str)\n",
    "str_index = str_index.groupby(['state','mmyyyy']).mean().reset_index()"
   ]
  },
  {
   "cell_type": "markdown",
   "id": "e673e972",
   "metadata": {},
   "source": [
    "### VACCINE"
   ]
  },
  {
   "cell_type": "code",
   "execution_count": 7,
   "id": "8e18e81d",
   "metadata": {},
   "outputs": [],
   "source": [
    "vacc = vacc[vacc['city_ibge_code_06']!='']\n",
    "vacc['date'] = pd.to_datetime(vacc['date'])\n",
    "vacc['city_ibge_code_06'] = vacc['city_ibge_code_06'].map(int)\n",
    "vacc['mmyyyy'] = vacc['date'].dt.month.map(str) + '/' + vacc['date'].dt.year.map(str)\n",
    "vacc = vacc.groupby(['city_ibge_code_06','mmyyyy']).sum().reset_index()\n",
    "vacc = vacc.groupby(['city_ibge_code_06','mmyyyy']).sum().reset_index()"
   ]
  },
  {
   "cell_type": "markdown",
   "id": "338a29ae",
   "metadata": {},
   "source": [
    "### MERGE TABLES"
   ]
  },
  {
   "cell_type": "code",
   "execution_count": 8,
   "id": "85e1b80d",
   "metadata": {},
   "outputs": [
    {
     "data": {
      "text/html": [
       "<div>\n",
       "<style scoped>\n",
       "    .dataframe tbody tr th:only-of-type {\n",
       "        vertical-align: middle;\n",
       "    }\n",
       "\n",
       "    .dataframe tbody tr th {\n",
       "        vertical-align: top;\n",
       "    }\n",
       "\n",
       "    .dataframe thead th {\n",
       "        text-align: right;\n",
       "    }\n",
       "</style>\n",
       "<table border=\"1\" class=\"dataframe\">\n",
       "  <thead>\n",
       "    <tr style=\"text-align: right;\">\n",
       "      <th></th>\n",
       "      <th>state</th>\n",
       "      <th>city_name</th>\n",
       "      <th>city_ibge_code_06</th>\n",
       "      <th>date</th>\n",
       "      <th>deaths</th>\n",
       "      <th>estimated_population</th>\n",
       "      <th>mmyyyy</th>\n",
       "      <th>doses</th>\n",
       "      <th>stringency_index</th>\n",
       "    </tr>\n",
       "  </thead>\n",
       "  <tbody>\n",
       "    <tr>\n",
       "      <th>0</th>\n",
       "      <td>GO</td>\n",
       "      <td>Abadia de Goiás</td>\n",
       "      <td>520005</td>\n",
       "      <td>2021-02-01</td>\n",
       "      <td>10</td>\n",
       "      <td>8958.0</td>\n",
       "      <td>2/2021</td>\n",
       "      <td>93.0</td>\n",
       "      <td>46.300000</td>\n",
       "    </tr>\n",
       "    <tr>\n",
       "      <th>1</th>\n",
       "      <td>GO</td>\n",
       "      <td>Abadia de Goiás</td>\n",
       "      <td>520005</td>\n",
       "      <td>2021-02-02</td>\n",
       "      <td>10</td>\n",
       "      <td>8958.0</td>\n",
       "      <td>2/2021</td>\n",
       "      <td>93.0</td>\n",
       "      <td>46.300000</td>\n",
       "    </tr>\n",
       "    <tr>\n",
       "      <th>2</th>\n",
       "      <td>GO</td>\n",
       "      <td>Abadia de Goiás</td>\n",
       "      <td>520005</td>\n",
       "      <td>2021-02-03</td>\n",
       "      <td>10</td>\n",
       "      <td>8958.0</td>\n",
       "      <td>2/2021</td>\n",
       "      <td>93.0</td>\n",
       "      <td>46.300000</td>\n",
       "    </tr>\n",
       "    <tr>\n",
       "      <th>3</th>\n",
       "      <td>GO</td>\n",
       "      <td>Abadia de Goiás</td>\n",
       "      <td>520005</td>\n",
       "      <td>2021-02-04</td>\n",
       "      <td>11</td>\n",
       "      <td>8958.0</td>\n",
       "      <td>2/2021</td>\n",
       "      <td>93.0</td>\n",
       "      <td>46.300000</td>\n",
       "    </tr>\n",
       "    <tr>\n",
       "      <th>4</th>\n",
       "      <td>GO</td>\n",
       "      <td>Abadia de Goiás</td>\n",
       "      <td>520005</td>\n",
       "      <td>2021-02-05</td>\n",
       "      <td>11</td>\n",
       "      <td>8958.0</td>\n",
       "      <td>2/2021</td>\n",
       "      <td>93.0</td>\n",
       "      <td>46.300000</td>\n",
       "    </tr>\n",
       "    <tr>\n",
       "      <th>...</th>\n",
       "      <td>...</td>\n",
       "      <td>...</td>\n",
       "      <td>...</td>\n",
       "      <td>...</td>\n",
       "      <td>...</td>\n",
       "      <td>...</td>\n",
       "      <td>...</td>\n",
       "      <td>...</td>\n",
       "      <td>...</td>\n",
       "    </tr>\n",
       "    <tr>\n",
       "      <th>2355175</th>\n",
       "      <td>RO</td>\n",
       "      <td>Vilhena</td>\n",
       "      <td>110030</td>\n",
       "      <td>2021-01-27</td>\n",
       "      <td>107</td>\n",
       "      <td>102211.0</td>\n",
       "      <td>1/2021</td>\n",
       "      <td>1.0</td>\n",
       "      <td>52.687742</td>\n",
       "    </tr>\n",
       "    <tr>\n",
       "      <th>2355176</th>\n",
       "      <td>RO</td>\n",
       "      <td>Vilhena</td>\n",
       "      <td>110030</td>\n",
       "      <td>2021-01-28</td>\n",
       "      <td>111</td>\n",
       "      <td>102211.0</td>\n",
       "      <td>1/2021</td>\n",
       "      <td>1.0</td>\n",
       "      <td>52.687742</td>\n",
       "    </tr>\n",
       "    <tr>\n",
       "      <th>2355177</th>\n",
       "      <td>RO</td>\n",
       "      <td>Vilhena</td>\n",
       "      <td>110030</td>\n",
       "      <td>2021-01-29</td>\n",
       "      <td>111</td>\n",
       "      <td>102211.0</td>\n",
       "      <td>1/2021</td>\n",
       "      <td>1.0</td>\n",
       "      <td>52.687742</td>\n",
       "    </tr>\n",
       "    <tr>\n",
       "      <th>2355178</th>\n",
       "      <td>RO</td>\n",
       "      <td>Vilhena</td>\n",
       "      <td>110030</td>\n",
       "      <td>2021-01-30</td>\n",
       "      <td>111</td>\n",
       "      <td>102211.0</td>\n",
       "      <td>1/2021</td>\n",
       "      <td>1.0</td>\n",
       "      <td>52.687742</td>\n",
       "    </tr>\n",
       "    <tr>\n",
       "      <th>2355179</th>\n",
       "      <td>RO</td>\n",
       "      <td>Vilhena</td>\n",
       "      <td>110030</td>\n",
       "      <td>2021-01-31</td>\n",
       "      <td>111</td>\n",
       "      <td>102211.0</td>\n",
       "      <td>1/2021</td>\n",
       "      <td>1.0</td>\n",
       "      <td>52.687742</td>\n",
       "    </tr>\n",
       "  </tbody>\n",
       "</table>\n",
       "<p>2355180 rows × 9 columns</p>\n",
       "</div>"
      ],
      "text/plain": [
       "        state        city_name  city_ibge_code_06       date  deaths  \\\n",
       "0          GO  Abadia de Goiás             520005 2021-02-01      10   \n",
       "1          GO  Abadia de Goiás             520005 2021-02-02      10   \n",
       "2          GO  Abadia de Goiás             520005 2021-02-03      10   \n",
       "3          GO  Abadia de Goiás             520005 2021-02-04      11   \n",
       "4          GO  Abadia de Goiás             520005 2021-02-05      11   \n",
       "...       ...              ...                ...        ...     ...   \n",
       "2355175    RO          Vilhena             110030 2021-01-27     107   \n",
       "2355176    RO          Vilhena             110030 2021-01-28     111   \n",
       "2355177    RO          Vilhena             110030 2021-01-29     111   \n",
       "2355178    RO          Vilhena             110030 2021-01-30     111   \n",
       "2355179    RO          Vilhena             110030 2021-01-31     111   \n",
       "\n",
       "         estimated_population  mmyyyy  doses  stringency_index  \n",
       "0                      8958.0  2/2021   93.0         46.300000  \n",
       "1                      8958.0  2/2021   93.0         46.300000  \n",
       "2                      8958.0  2/2021   93.0         46.300000  \n",
       "3                      8958.0  2/2021   93.0         46.300000  \n",
       "4                      8958.0  2/2021   93.0         46.300000  \n",
       "...                       ...     ...    ...               ...  \n",
       "2355175              102211.0  1/2021    1.0         52.687742  \n",
       "2355176              102211.0  1/2021    1.0         52.687742  \n",
       "2355177              102211.0  1/2021    1.0         52.687742  \n",
       "2355178              102211.0  1/2021    1.0         52.687742  \n",
       "2355179              102211.0  1/2021    1.0         52.687742  \n",
       "\n",
       "[2355180 rows x 9 columns]"
      ]
     },
     "execution_count": 8,
     "metadata": {},
     "output_type": "execute_result"
    }
   ],
   "source": [
    "dataset = brasil_io.merge(right=vacc,on=['city_ibge_code_06','mmyyyy'])\n",
    "dataset['state'] = dataset['city_ibge_code_06'].map(city_state)\n",
    "dataset.merge(right=str_index,on=['mmyyyy','state'])"
   ]
  },
  {
   "cell_type": "markdown",
   "id": "f1653e01",
   "metadata": {},
   "source": [
    "### EXPORT DATA"
   ]
  },
  {
   "cell_type": "code",
   "execution_count": null,
   "id": "5480dbb4",
   "metadata": {},
   "outputs": [],
   "source": [
    "dataset.to_csv(\"dataset.csv\")"
   ]
  }
 ],
 "metadata": {
  "kernelspec": {
   "display_name": "Python 3",
   "language": "python",
   "name": "python3"
  },
  "language_info": {
   "codemirror_mode": {
    "name": "ipython",
    "version": 3
   },
   "file_extension": ".py",
   "mimetype": "text/x-python",
   "name": "python",
   "nbconvert_exporter": "python",
   "pygments_lexer": "ipython3",
   "version": "3.8.8"
  }
 },
 "nbformat": 4,
 "nbformat_minor": 5
}
